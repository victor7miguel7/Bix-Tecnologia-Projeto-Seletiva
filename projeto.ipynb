{
 "cells": [
  {
   "cell_type": "code",
   "execution_count": 202,
   "metadata": {},
   "outputs": [],
   "source": [
    "import pandas as pd\n",
    "import numpy as np\n",
    "import seaborn as sns\n",
    "import matplotlib.pyplot as plt \n"
   ]
  },
  {
   "cell_type": "markdown",
   "metadata": {},
   "source": [
    "# Importando dados / Importing data"
   ]
  },
  {
   "cell_type": "code",
   "execution_count": 203,
   "metadata": {},
   "outputs": [
    {
     "data": {
      "text/html": [
       "<div>\n",
       "<style scoped>\n",
       "    .dataframe tbody tr th:only-of-type {\n",
       "        vertical-align: middle;\n",
       "    }\n",
       "\n",
       "    .dataframe tbody tr th {\n",
       "        vertical-align: top;\n",
       "    }\n",
       "\n",
       "    .dataframe thead th {\n",
       "        text-align: right;\n",
       "    }\n",
       "</style>\n",
       "<table border=\"1\" class=\"dataframe\">\n",
       "  <thead>\n",
       "    <tr style=\"text-align: right;\">\n",
       "      <th></th>\n",
       "      <th>class</th>\n",
       "      <th>aa_000</th>\n",
       "      <th>ab_000</th>\n",
       "      <th>ac_000</th>\n",
       "      <th>ad_000</th>\n",
       "      <th>ae_000</th>\n",
       "      <th>af_000</th>\n",
       "      <th>ag_000</th>\n",
       "      <th>ag_001</th>\n",
       "      <th>ag_002</th>\n",
       "      <th>...</th>\n",
       "      <th>ee_002</th>\n",
       "      <th>ee_003</th>\n",
       "      <th>ee_004</th>\n",
       "      <th>ee_005</th>\n",
       "      <th>ee_006</th>\n",
       "      <th>ee_007</th>\n",
       "      <th>ee_008</th>\n",
       "      <th>ee_009</th>\n",
       "      <th>ef_000</th>\n",
       "      <th>eg_000</th>\n",
       "    </tr>\n",
       "  </thead>\n",
       "  <tbody>\n",
       "    <tr>\n",
       "      <th>0</th>\n",
       "      <td>neg</td>\n",
       "      <td>60</td>\n",
       "      <td>0</td>\n",
       "      <td>20</td>\n",
       "      <td>12</td>\n",
       "      <td>0</td>\n",
       "      <td>0</td>\n",
       "      <td>0</td>\n",
       "      <td>0</td>\n",
       "      <td>0</td>\n",
       "      <td>...</td>\n",
       "      <td>1098</td>\n",
       "      <td>138</td>\n",
       "      <td>412</td>\n",
       "      <td>654</td>\n",
       "      <td>78</td>\n",
       "      <td>88</td>\n",
       "      <td>0</td>\n",
       "      <td>0</td>\n",
       "      <td>0</td>\n",
       "      <td>0</td>\n",
       "    </tr>\n",
       "    <tr>\n",
       "      <th>1</th>\n",
       "      <td>neg</td>\n",
       "      <td>82</td>\n",
       "      <td>0</td>\n",
       "      <td>68</td>\n",
       "      <td>40</td>\n",
       "      <td>0</td>\n",
       "      <td>0</td>\n",
       "      <td>0</td>\n",
       "      <td>0</td>\n",
       "      <td>0</td>\n",
       "      <td>...</td>\n",
       "      <td>1068</td>\n",
       "      <td>276</td>\n",
       "      <td>1620</td>\n",
       "      <td>116</td>\n",
       "      <td>86</td>\n",
       "      <td>462</td>\n",
       "      <td>0</td>\n",
       "      <td>0</td>\n",
       "      <td>0</td>\n",
       "      <td>0</td>\n",
       "    </tr>\n",
       "    <tr>\n",
       "      <th>2</th>\n",
       "      <td>neg</td>\n",
       "      <td>66002</td>\n",
       "      <td>2</td>\n",
       "      <td>212</td>\n",
       "      <td>112</td>\n",
       "      <td>0</td>\n",
       "      <td>0</td>\n",
       "      <td>0</td>\n",
       "      <td>0</td>\n",
       "      <td>0</td>\n",
       "      <td>...</td>\n",
       "      <td>495076</td>\n",
       "      <td>380368</td>\n",
       "      <td>440134</td>\n",
       "      <td>269556</td>\n",
       "      <td>1315022</td>\n",
       "      <td>153680</td>\n",
       "      <td>516</td>\n",
       "      <td>0</td>\n",
       "      <td>0</td>\n",
       "      <td>0</td>\n",
       "    </tr>\n",
       "    <tr>\n",
       "      <th>3</th>\n",
       "      <td>neg</td>\n",
       "      <td>59816</td>\n",
       "      <td>na</td>\n",
       "      <td>1010</td>\n",
       "      <td>936</td>\n",
       "      <td>0</td>\n",
       "      <td>0</td>\n",
       "      <td>0</td>\n",
       "      <td>0</td>\n",
       "      <td>0</td>\n",
       "      <td>...</td>\n",
       "      <td>540820</td>\n",
       "      <td>243270</td>\n",
       "      <td>483302</td>\n",
       "      <td>485332</td>\n",
       "      <td>431376</td>\n",
       "      <td>210074</td>\n",
       "      <td>281662</td>\n",
       "      <td>3232</td>\n",
       "      <td>0</td>\n",
       "      <td>0</td>\n",
       "    </tr>\n",
       "    <tr>\n",
       "      <th>4</th>\n",
       "      <td>neg</td>\n",
       "      <td>1814</td>\n",
       "      <td>na</td>\n",
       "      <td>156</td>\n",
       "      <td>140</td>\n",
       "      <td>0</td>\n",
       "      <td>0</td>\n",
       "      <td>0</td>\n",
       "      <td>0</td>\n",
       "      <td>0</td>\n",
       "      <td>...</td>\n",
       "      <td>7646</td>\n",
       "      <td>4144</td>\n",
       "      <td>18466</td>\n",
       "      <td>49782</td>\n",
       "      <td>3176</td>\n",
       "      <td>482</td>\n",
       "      <td>76</td>\n",
       "      <td>0</td>\n",
       "      <td>0</td>\n",
       "      <td>0</td>\n",
       "    </tr>\n",
       "  </tbody>\n",
       "</table>\n",
       "<p>5 rows × 171 columns</p>\n",
       "</div>"
      ],
      "text/plain": [
       "  class  aa_000 ab_000 ac_000 ad_000 ae_000 af_000 ag_000 ag_001 ag_002  ...  \\\n",
       "0   neg      60      0     20     12      0      0      0      0      0  ...   \n",
       "1   neg      82      0     68     40      0      0      0      0      0  ...   \n",
       "2   neg   66002      2    212    112      0      0      0      0      0  ...   \n",
       "3   neg   59816     na   1010    936      0      0      0      0      0  ...   \n",
       "4   neg    1814     na    156    140      0      0      0      0      0  ...   \n",
       "\n",
       "   ee_002  ee_003  ee_004  ee_005   ee_006  ee_007  ee_008 ee_009 ef_000  \\\n",
       "0    1098     138     412     654       78      88       0      0      0   \n",
       "1    1068     276    1620     116       86     462       0      0      0   \n",
       "2  495076  380368  440134  269556  1315022  153680     516      0      0   \n",
       "3  540820  243270  483302  485332   431376  210074  281662   3232      0   \n",
       "4    7646    4144   18466   49782     3176     482      76      0      0   \n",
       "\n",
       "  eg_000  \n",
       "0      0  \n",
       "1      0  \n",
       "2      0  \n",
       "3      0  \n",
       "4      0  \n",
       "\n",
       "[5 rows x 171 columns]"
      ]
     },
     "execution_count": 203,
     "metadata": {},
     "output_type": "execute_result"
    }
   ],
   "source": [
    "df = pd.read_csv('air_system_present_year.csv')\n",
    "df.head()\n"
   ]
  },
  {
   "cell_type": "code",
   "execution_count": 204,
   "metadata": {},
   "outputs": [
    {
     "data": {
      "text/plain": [
       "(16000, 171)"
      ]
     },
     "execution_count": 204,
     "metadata": {},
     "output_type": "execute_result"
    }
   ],
   "source": [
    "df.shape"
   ]
  },
  {
   "cell_type": "code",
   "execution_count": 205,
   "metadata": {},
   "outputs": [
    {
     "data": {
      "text/plain": [
       "object    170\n",
       "int64       1\n",
       "Name: count, dtype: int64"
      ]
     },
     "execution_count": 205,
     "metadata": {},
     "output_type": "execute_result"
    }
   ],
   "source": [
    "df.dtypes.value_counts()"
   ]
  },
  {
   "cell_type": "markdown",
   "metadata": {},
   "source": [
    "# Tratando dados / Handling data\n"
   ]
  },
  {
   "cell_type": "markdown",
   "metadata": {},
   "source": [
    "### Convertendo 'nas' para NaN / Converting 'nas' to NaN"
   ]
  },
  {
   "cell_type": "code",
   "execution_count": 206,
   "metadata": {},
   "outputs": [],
   "source": [
    "df.replace(\"na\", np.nan, inplace=True)"
   ]
  },
  {
   "cell_type": "code",
   "execution_count": 207,
   "metadata": {},
   "outputs": [
    {
     "data": {
      "text/plain": [
       "br_000    13129\n",
       "bq_000    12981\n",
       "bp_000    12721\n",
       "bo_000    12376\n",
       "ab_000    12363\n",
       "cr_000    12363\n",
       "bn_000    11713\n",
       "bm_000    10546\n",
       "bl_000     7226\n",
       "bk_000     6094\n",
       "cf_000     3981\n",
       "cg_000     3981\n",
       "ch_000     3981\n",
       "ad_000     3981\n",
       "co_000     3981\n",
       "cv_000     3718\n",
       "cz_000     3718\n",
       "cy_000     3718\n",
       "da_000     3718\n",
       "cx_000     3718\n",
       "ct_000     3718\n",
       "cu_000     3718\n",
       "dc_000     3718\n",
       "db_000     3718\n",
       "ec_00      2644\n",
       "cm_000     2578\n",
       "cl_000     2459\n",
       "ed_000     2459\n",
       "ca_000     1206\n",
       "ak_000     1198\n",
       "dh_000     1094\n",
       "dm_000     1094\n",
       "eb_000     1094\n",
       "dg_000     1094\n",
       "df_000     1094\n",
       "di_000     1094\n",
       "dj_000     1094\n",
       "dk_000     1094\n",
       "dl_000     1094\n",
       "ac_000      926\n",
       "bx_000      866\n",
       "cc_000      865\n",
       "dv_000      764\n",
       "bd_000      764\n",
       "dy_000      764\n",
       "dx_000      764\n",
       "ar_000      764\n",
       "ds_000      764\n",
       "du_000      764\n",
       "dt_000      764\n",
       "dr_000      764\n",
       "dq_000      764\n",
       "dp_000      764\n",
       "do_000      764\n",
       "de_000      764\n",
       "bc_000      764\n",
       "bz_000      763\n",
       "cp_000      763\n",
       "ef_000      762\n",
       "ea_000      762\n",
       "dz_000      762\n",
       "eg_000      762\n",
       "af_000      690\n",
       "ae_000      690\n",
       "be_000      690\n",
       "bf_000      689\n",
       "ax_000      688\n",
       "av_000      688\n",
       "dd_000      688\n",
       "ce_000      688\n",
       "bs_000      202\n",
       "cb_000      202\n",
       "cn_009      194\n",
       "cn_008      194\n",
       "cn_001      194\n",
       "cn_003      194\n",
       "cn_000      194\n",
       "cn_002      194\n",
       "cn_004      194\n",
       "cn_005      194\n",
       "cn_006      194\n",
       "cn_007      194\n",
       "ba_008      193\n",
       "ba_009      193\n",
       "ba_000      193\n",
       "ba_001      193\n",
       "ba_002      193\n",
       "ba_003      193\n",
       "ba_004      193\n",
       "ba_005      193\n",
       "ba_006      193\n",
       "ba_007      193\n",
       "ee_001      192\n",
       "ee_006      192\n",
       "ee_000      192\n",
       "ee_003      192\n",
       "ee_002      192\n",
       "ee_004      192\n",
       "ee_007      192\n",
       "ay_007      192\n",
       "az_003      192\n",
       "az_002      192\n",
       "az_001      192\n",
       "az_000      192\n",
       "ay_009      192\n",
       "ee_008      192\n",
       "ay_006      192\n",
       "az_005      192\n",
       "ay_005      192\n",
       "ay_004      192\n",
       "ay_003      192\n",
       "ay_002      192\n",
       "ay_001      192\n",
       "ay_000      192\n",
       "az_004      192\n",
       "ay_008      192\n",
       "az_006      192\n",
       "az_007      192\n",
       "ee_009      192\n",
       "az_009      192\n",
       "az_008      192\n",
       "ee_005      192\n",
       "bv_000      190\n",
       "cq_000      190\n",
       "dn_000      190\n",
       "bu_000      190\n",
       "ag_004      189\n",
       "ag_005      189\n",
       "ag_006      189\n",
       "ag_007      189\n",
       "ag_003      189\n",
       "ag_002      189\n",
       "ag_001      189\n",
       "ag_008      189\n",
       "ag_009      189\n",
       "cs_003      189\n",
       "ag_000      189\n",
       "cs_002      189\n",
       "cs_008      189\n",
       "cs_009      189\n",
       "cs_004      189\n",
       "cs_005      189\n",
       "cs_006      189\n",
       "cs_007      189\n",
       "cs_000      189\n",
       "cs_001      189\n",
       "cd_000      185\n",
       "ah_000      175\n",
       "bb_000      175\n",
       "al_000      169\n",
       "an_000      169\n",
       "ap_000      169\n",
       "bh_000      169\n",
       "bg_000      169\n",
       "ai_000      163\n",
       "au_000      163\n",
       "aj_000      163\n",
       "am_0        163\n",
       "as_000      163\n",
       "at_000      163\n",
       "ao_000      162\n",
       "aq_000      162\n",
       "bi_000      162\n",
       "bj_000      162\n",
       "by_000      107\n",
       "ck_000       86\n",
       "cj_000       86\n",
       "ci_000       86\n",
       "bt_000       28\n",
       "aa_000        0\n",
       "class         0\n",
       "dtype: int64"
      ]
     },
     "metadata": {},
     "output_type": "display_data"
    }
   ],
   "source": [
    "# Contando numero de NaNs por culuna / # Counting number of NaNs per column\n",
    "\n",
    "#print(df.isnull().sum())\n",
    "pd.set_option('display.max_rows', None)\n",
    "display(df.isnull().sum().sort_values(ascending=False))\n",
    "\n"
   ]
  },
  {
   "cell_type": "code",
   "execution_count": 208,
   "metadata": {},
   "outputs": [],
   "source": [
    "pd.set_option('display.max_rows', 20)"
   ]
  },
  {
   "cell_type": "markdown",
   "metadata": {},
   "source": [
    "## Agora, iremos dropar colunas com número de nulos superiores a 6093 /  Now we will drop columns with a number of nulls greater than 6093"
   ]
  },
  {
   "cell_type": "code",
   "execution_count": 209,
   "metadata": {},
   "outputs": [
    {
     "name": "stdout",
     "output_type": "stream",
     "text": [
      "Colunas removidas: Index(['ab_000', 'bk_000', 'bl_000', 'bm_000', 'bn_000', 'bo_000', 'bp_000',\n",
      "       'bq_000', 'br_000', 'cr_000'],\n",
      "      dtype='object')\n"
     ]
    }
   ],
   "source": [
    "# Passo 1: Identificar colunas com mais de 5000 NaNs\n",
    "cols_to_drop = df.columns[df.isnull().sum() > 6093]\n",
    "\n",
    "# Passo 2: Dropar as colunas identificadas\n",
    "df = df.drop(cols_to_drop, axis=1)\n",
    "\n",
    "print(\"Colunas removidas:\", cols_to_drop)\n"
   ]
  },
  {
   "cell_type": "code",
   "execution_count": 210,
   "metadata": {},
   "outputs": [
    {
     "data": {
      "text/plain": [
       "(16000, 161)"
      ]
     },
     "execution_count": 210,
     "metadata": {},
     "output_type": "execute_result"
    }
   ],
   "source": [
    "#display(df.isnull().sum().sort_values(ascending=False))\n",
    "df.shape"
   ]
  },
  {
   "cell_type": "markdown",
   "metadata": {},
   "source": [
    "## Eliminando valores nulos / drop null values"
   ]
  },
  {
   "cell_type": "code",
   "execution_count": 211,
   "metadata": {},
   "outputs": [],
   "source": [
    "df = df.dropna()"
   ]
  },
  {
   "cell_type": "code",
   "execution_count": 212,
   "metadata": {},
   "outputs": [
    {
     "data": {
      "text/plain": [
       "(11087, 161)"
      ]
     },
     "execution_count": 212,
     "metadata": {},
     "output_type": "execute_result"
    }
   ],
   "source": [
    "df.shape"
   ]
  },
  {
   "cell_type": "markdown",
   "metadata": {},
   "source": [
    "## Covertendo colunas objeto pra valores numericos, menos a de classe /  Covering object columns for numeric values, except the class column"
   ]
  },
  {
   "cell_type": "code",
   "execution_count": 213,
   "metadata": {},
   "outputs": [],
   "source": [
    "for column in df.select_dtypes(include=['object']).columns:\n",
    "    if column != 'class':\n",
    "        df[column] = pd.to_numeric(df[column], errors='coerce')"
   ]
  },
  {
   "cell_type": "code",
   "execution_count": 214,
   "metadata": {},
   "outputs": [
    {
     "data": {
      "text/plain": [
       "int64      154\n",
       "float64      6\n",
       "object       1\n",
       "Name: count, dtype: int64"
      ]
     },
     "execution_count": 214,
     "metadata": {},
     "output_type": "execute_result"
    }
   ],
   "source": [
    "df.dtypes.value_counts()"
   ]
  },
  {
   "cell_type": "markdown",
   "metadata": {},
   "source": [
    "## Trasformando coluna class para 1 ou 0 / Transforming class column to 1 or 0\n",
    "* neg = 0\n",
    "* pos = 1"
   ]
  },
  {
   "cell_type": "code",
   "execution_count": 215,
   "metadata": {},
   "outputs": [
    {
     "name": "stdout",
     "output_type": "stream",
     "text": [
      "0        neg\n",
      "1        neg\n",
      "2        neg\n",
      "3        neg\n",
      "4        neg\n",
      "        ... \n",
      "15995    neg\n",
      "15996    neg\n",
      "15997    neg\n",
      "15998    neg\n",
      "15999    neg\n",
      "Name: class, Length: 11087, dtype: object\n"
     ]
    }
   ],
   "source": [
    "print(df['class'])"
   ]
  },
  {
   "cell_type": "code",
   "execution_count": 216,
   "metadata": {},
   "outputs": [
    {
     "name": "stdout",
     "output_type": "stream",
     "text": [
      "['neg' 'pos']\n"
     ]
    }
   ],
   "source": [
    "print(df['class'].unique())"
   ]
  },
  {
   "cell_type": "code",
   "execution_count": 217,
   "metadata": {},
   "outputs": [],
   "source": [
    "# Substituindo neg e pos por 0 e 1. Além disso, convertendo coluna para tipo float\n",
    "df['class'] = df['class'].str.replace('neg', '0', regex=False)\n",
    "df['class'] = df['class'].str.replace('pos', '1', regex=False)\n",
    "df['class'] = df['class'].astype(np.float32, copy=False)"
   ]
  },
  {
   "cell_type": "code",
   "execution_count": 218,
   "metadata": {},
   "outputs": [
    {
     "name": "stdout",
     "output_type": "stream",
     "text": [
      "[0. 1.]\n",
      "0        0.0\n",
      "1        0.0\n",
      "2        0.0\n",
      "3        0.0\n",
      "4        0.0\n",
      "        ... \n",
      "15995    0.0\n",
      "15996    0.0\n",
      "15997    0.0\n",
      "15998    0.0\n",
      "15999    0.0\n",
      "Name: class, Length: 11087, dtype: float32\n"
     ]
    }
   ],
   "source": [
    "print(df['class'].unique())\n",
    "print(df['class'])"
   ]
  },
  {
   "cell_type": "markdown",
   "metadata": {},
   "source": [
    "## Iniciando construção do modelo / Starting model construction"
   ]
  },
  {
   "cell_type": "code",
   "execution_count": 219,
   "metadata": {},
   "outputs": [],
   "source": [
    "X = df.drop([\"class\"], axis=1)\n",
    "y = df['class']"
   ]
  },
  {
   "cell_type": "markdown",
   "metadata": {},
   "source": [
    "Importando bibliotecas / Importing libraries"
   ]
  },
  {
   "cell_type": "code",
   "execution_count": 238,
   "metadata": {},
   "outputs": [],
   "source": [
    "from sklearn.feature_selection import SelectKBest, f_classif\n",
    "from sklearn.model_selection import train_test_split\n",
    "#from sklearn.metrics import r2_score, mean_squared_error\n",
    "from sklearn.ensemble import RandomForestClassifier\n",
    "from sklearn.linear_model import SGDClassifier\n",
    "#from sklearn.kernel_approximation import RBFSampler\n",
    "from sklearn.metrics import roc_auc_score, recall_score\n",
    "from sklearn.svm import SVC\n",
    "from sklearn.preprocessing import MinMaxScaler\n",
    "from sklearn.model_selection import GridSearchCV"
   ]
  },
  {
   "cell_type": "code",
   "execution_count": 223,
   "metadata": {},
   "outputs": [],
   "source": [
    "#Dropando coluna de posicao 80, por ser toda constante / Dropping column position 80, as it is all constant\n",
    "X = X.drop(X.columns[80], axis=1)"
   ]
  },
  {
   "cell_type": "markdown",
   "metadata": {},
   "source": [
    "### Selecionando as 50 features mais importantes para o modelo / Selecting the 50 most important features for the model"
   ]
  },
  {
   "cell_type": "code",
   "execution_count": 224,
   "metadata": {},
   "outputs": [],
   "source": [
    "# Selecionando 50 features mais relevantes\n",
    "f_classif = SelectKBest(score_func=f_classif, k=50)\n",
    "fit = f_classif.fit(X, y)\n",
    "features = fit.transform(X)"
   ]
  },
  {
   "cell_type": "code",
   "execution_count": 225,
   "metadata": {},
   "outputs": [
    {
     "data": {
      "text/html": [
       "<div>\n",
       "<style scoped>\n",
       "    .dataframe tbody tr th:only-of-type {\n",
       "        vertical-align: middle;\n",
       "    }\n",
       "\n",
       "    .dataframe tbody tr th {\n",
       "        vertical-align: top;\n",
       "    }\n",
       "\n",
       "    .dataframe thead th {\n",
       "        text-align: right;\n",
       "    }\n",
       "</style>\n",
       "<table border=\"1\" class=\"dataframe\">\n",
       "  <thead>\n",
       "    <tr style=\"text-align: right;\">\n",
       "      <th></th>\n",
       "      <th>aa_000</th>\n",
       "      <th>ag_002</th>\n",
       "      <th>ag_003</th>\n",
       "      <th>ag_004</th>\n",
       "      <th>ah_000</th>\n",
       "      <th>al_000</th>\n",
       "      <th>am_0</th>\n",
       "      <th>an_000</th>\n",
       "      <th>ao_000</th>\n",
       "      <th>ap_000</th>\n",
       "      <th>...</th>\n",
       "      <th>cq_000</th>\n",
       "      <th>cs_002</th>\n",
       "      <th>cs_004</th>\n",
       "      <th>de_000</th>\n",
       "      <th>dg_000</th>\n",
       "      <th>dn_000</th>\n",
       "      <th>ds_000</th>\n",
       "      <th>dt_000</th>\n",
       "      <th>ee_000</th>\n",
       "      <th>ee_005</th>\n",
       "    </tr>\n",
       "  </thead>\n",
       "  <tbody>\n",
       "    <tr>\n",
       "      <th>0</th>\n",
       "      <td>60</td>\n",
       "      <td>0</td>\n",
       "      <td>2682</td>\n",
       "      <td>4736</td>\n",
       "      <td>3976</td>\n",
       "      <td>1520</td>\n",
       "      <td>2374</td>\n",
       "      <td>11516</td>\n",
       "      <td>9480</td>\n",
       "      <td>111258</td>\n",
       "      <td>...</td>\n",
       "      <td>124340</td>\n",
       "      <td>36</td>\n",
       "      <td>920</td>\n",
       "      <td>112</td>\n",
       "      <td>0</td>\n",
       "      <td>340</td>\n",
       "      <td>232</td>\n",
       "      <td>66</td>\n",
       "      <td>7502</td>\n",
       "      <td>654</td>\n",
       "    </tr>\n",
       "    <tr>\n",
       "      <th>1</th>\n",
       "      <td>82</td>\n",
       "      <td>0</td>\n",
       "      <td>0</td>\n",
       "      <td>748</td>\n",
       "      <td>5244</td>\n",
       "      <td>0</td>\n",
       "      <td>0</td>\n",
       "      <td>23174</td>\n",
       "      <td>18166</td>\n",
       "      <td>23686</td>\n",
       "      <td>...</td>\n",
       "      <td>46894</td>\n",
       "      <td>114</td>\n",
       "      <td>700</td>\n",
       "      <td>40</td>\n",
       "      <td>0</td>\n",
       "      <td>352</td>\n",
       "      <td>200</td>\n",
       "      <td>62</td>\n",
       "      <td>10040</td>\n",
       "      <td>116</td>\n",
       "    </tr>\n",
       "    <tr>\n",
       "      <th>2</th>\n",
       "      <td>66002</td>\n",
       "      <td>0</td>\n",
       "      <td>199486</td>\n",
       "      <td>1358536</td>\n",
       "      <td>1891670</td>\n",
       "      <td>77898</td>\n",
       "      <td>110548</td>\n",
       "      <td>3605894</td>\n",
       "      <td>3291610</td>\n",
       "      <td>959756</td>\n",
       "      <td>...</td>\n",
       "      <td>4644422</td>\n",
       "      <td>162660</td>\n",
       "      <td>217930</td>\n",
       "      <td>692</td>\n",
       "      <td>0</td>\n",
       "      <td>25278</td>\n",
       "      <td>109700</td>\n",
       "      <td>19072</td>\n",
       "      <td>396312</td>\n",
       "      <td>269556</td>\n",
       "    </tr>\n",
       "    <tr>\n",
       "      <th>3</th>\n",
       "      <td>59816</td>\n",
       "      <td>0</td>\n",
       "      <td>0</td>\n",
       "      <td>123922</td>\n",
       "      <td>1772828</td>\n",
       "      <td>1116</td>\n",
       "      <td>2372</td>\n",
       "      <td>3546760</td>\n",
       "      <td>3053176</td>\n",
       "      <td>652616</td>\n",
       "      <td>...</td>\n",
       "      <td>4201350</td>\n",
       "      <td>70090</td>\n",
       "      <td>191284</td>\n",
       "      <td>414</td>\n",
       "      <td>0</td>\n",
       "      <td>27740</td>\n",
       "      <td>133542</td>\n",
       "      <td>21290</td>\n",
       "      <td>659550</td>\n",
       "      <td>485332</td>\n",
       "    </tr>\n",
       "    <tr>\n",
       "      <th>4</th>\n",
       "      <td>1814</td>\n",
       "      <td>0</td>\n",
       "      <td>0</td>\n",
       "      <td>72</td>\n",
       "      <td>48978</td>\n",
       "      <td>0</td>\n",
       "      <td>0</td>\n",
       "      <td>97146</td>\n",
       "      <td>89920</td>\n",
       "      <td>12932</td>\n",
       "      <td>...</td>\n",
       "      <td>110094</td>\n",
       "      <td>86</td>\n",
       "      <td>1792</td>\n",
       "      <td>36</td>\n",
       "      <td>0</td>\n",
       "      <td>538</td>\n",
       "      <td>1822</td>\n",
       "      <td>344</td>\n",
       "      <td>10216</td>\n",
       "      <td>49782</td>\n",
       "    </tr>\n",
       "    <tr>\n",
       "      <th>...</th>\n",
       "      <td>...</td>\n",
       "      <td>...</td>\n",
       "      <td>...</td>\n",
       "      <td>...</td>\n",
       "      <td>...</td>\n",
       "      <td>...</td>\n",
       "      <td>...</td>\n",
       "      <td>...</td>\n",
       "      <td>...</td>\n",
       "      <td>...</td>\n",
       "      <td>...</td>\n",
       "      <td>...</td>\n",
       "      <td>...</td>\n",
       "      <td>...</td>\n",
       "      <td>...</td>\n",
       "      <td>...</td>\n",
       "      <td>...</td>\n",
       "      <td>...</td>\n",
       "      <td>...</td>\n",
       "      <td>...</td>\n",
       "      <td>...</td>\n",
       "    </tr>\n",
       "    <tr>\n",
       "      <th>15995</th>\n",
       "      <td>81852</td>\n",
       "      <td>0</td>\n",
       "      <td>0</td>\n",
       "      <td>5486</td>\n",
       "      <td>2276100</td>\n",
       "      <td>0</td>\n",
       "      <td>0</td>\n",
       "      <td>4547950</td>\n",
       "      <td>3779700</td>\n",
       "      <td>973592</td>\n",
       "      <td>...</td>\n",
       "      <td>5522314</td>\n",
       "      <td>357990</td>\n",
       "      <td>522352</td>\n",
       "      <td>1006</td>\n",
       "      <td>0</td>\n",
       "      <td>40386</td>\n",
       "      <td>155596</td>\n",
       "      <td>23350</td>\n",
       "      <td>883900</td>\n",
       "      <td>373918</td>\n",
       "    </tr>\n",
       "    <tr>\n",
       "      <th>15996</th>\n",
       "      <td>18</td>\n",
       "      <td>0</td>\n",
       "      <td>0</td>\n",
       "      <td>6444</td>\n",
       "      <td>3740</td>\n",
       "      <td>1150</td>\n",
       "      <td>2790</td>\n",
       "      <td>14656</td>\n",
       "      <td>12242</td>\n",
       "      <td>7222</td>\n",
       "      <td>...</td>\n",
       "      <td>23062</td>\n",
       "      <td>16</td>\n",
       "      <td>2504</td>\n",
       "      <td>66</td>\n",
       "      <td>0</td>\n",
       "      <td>264</td>\n",
       "      <td>106</td>\n",
       "      <td>28</td>\n",
       "      <td>9354</td>\n",
       "      <td>14</td>\n",
       "    </tr>\n",
       "    <tr>\n",
       "      <th>15997</th>\n",
       "      <td>79636</td>\n",
       "      <td>0</td>\n",
       "      <td>0</td>\n",
       "      <td>15062</td>\n",
       "      <td>2156280</td>\n",
       "      <td>0</td>\n",
       "      <td>0</td>\n",
       "      <td>4562338</td>\n",
       "      <td>3828492</td>\n",
       "      <td>1238380</td>\n",
       "      <td>...</td>\n",
       "      <td>5802262</td>\n",
       "      <td>37980</td>\n",
       "      <td>233722</td>\n",
       "      <td>456</td>\n",
       "      <td>0</td>\n",
       "      <td>40850</td>\n",
       "      <td>187506</td>\n",
       "      <td>29150</td>\n",
       "      <td>450380</td>\n",
       "      <td>581558</td>\n",
       "    </tr>\n",
       "    <tr>\n",
       "      <th>15998</th>\n",
       "      <td>110</td>\n",
       "      <td>0</td>\n",
       "      <td>0</td>\n",
       "      <td>198</td>\n",
       "      <td>12790</td>\n",
       "      <td>0</td>\n",
       "      <td>0</td>\n",
       "      <td>26026</td>\n",
       "      <td>13504</td>\n",
       "      <td>61018</td>\n",
       "      <td>...</td>\n",
       "      <td>87120</td>\n",
       "      <td>84</td>\n",
       "      <td>2008</td>\n",
       "      <td>38</td>\n",
       "      <td>0</td>\n",
       "      <td>602</td>\n",
       "      <td>380</td>\n",
       "      <td>66</td>\n",
       "      <td>22688</td>\n",
       "      <td>544</td>\n",
       "    </tr>\n",
       "    <tr>\n",
       "      <th>15999</th>\n",
       "      <td>8</td>\n",
       "      <td>0</td>\n",
       "      <td>0</td>\n",
       "      <td>1350</td>\n",
       "      <td>2228</td>\n",
       "      <td>0</td>\n",
       "      <td>0</td>\n",
       "      <td>11650</td>\n",
       "      <td>9796</td>\n",
       "      <td>5404</td>\n",
       "      <td>...</td>\n",
       "      <td>17070</td>\n",
       "      <td>6</td>\n",
       "      <td>18</td>\n",
       "      <td>82</td>\n",
       "      <td>0</td>\n",
       "      <td>112</td>\n",
       "      <td>26</td>\n",
       "      <td>8</td>\n",
       "      <td>4644</td>\n",
       "      <td>14</td>\n",
       "    </tr>\n",
       "  </tbody>\n",
       "</table>\n",
       "<p>11087 rows × 50 columns</p>\n",
       "</div>"
      ],
      "text/plain": [
       "       aa_000  ag_002  ag_003   ag_004   ah_000  al_000    am_0   an_000  \\\n",
       "0          60       0    2682     4736     3976    1520    2374    11516   \n",
       "1          82       0       0      748     5244       0       0    23174   \n",
       "2       66002       0  199486  1358536  1891670   77898  110548  3605894   \n",
       "3       59816       0       0   123922  1772828    1116    2372  3546760   \n",
       "4        1814       0       0       72    48978       0       0    97146   \n",
       "...       ...     ...     ...      ...      ...     ...     ...      ...   \n",
       "15995   81852       0       0     5486  2276100       0       0  4547950   \n",
       "15996      18       0       0     6444     3740    1150    2790    14656   \n",
       "15997   79636       0       0    15062  2156280       0       0  4562338   \n",
       "15998     110       0       0      198    12790       0       0    26026   \n",
       "15999       8       0       0     1350     2228       0       0    11650   \n",
       "\n",
       "        ao_000   ap_000  ...   cq_000  cs_002  cs_004  de_000  dg_000  dn_000  \\\n",
       "0         9480   111258  ...   124340      36     920     112       0     340   \n",
       "1        18166    23686  ...    46894     114     700      40       0     352   \n",
       "2      3291610   959756  ...  4644422  162660  217930     692       0   25278   \n",
       "3      3053176   652616  ...  4201350   70090  191284     414       0   27740   \n",
       "4        89920    12932  ...   110094      86    1792      36       0     538   \n",
       "...        ...      ...  ...      ...     ...     ...     ...     ...     ...   \n",
       "15995  3779700   973592  ...  5522314  357990  522352    1006       0   40386   \n",
       "15996    12242     7222  ...    23062      16    2504      66       0     264   \n",
       "15997  3828492  1238380  ...  5802262   37980  233722     456       0   40850   \n",
       "15998    13504    61018  ...    87120      84    2008      38       0     602   \n",
       "15999     9796     5404  ...    17070       6      18      82       0     112   \n",
       "\n",
       "       ds_000  dt_000  ee_000  ee_005  \n",
       "0         232      66    7502     654  \n",
       "1         200      62   10040     116  \n",
       "2      109700   19072  396312  269556  \n",
       "3      133542   21290  659550  485332  \n",
       "4        1822     344   10216   49782  \n",
       "...       ...     ...     ...     ...  \n",
       "15995  155596   23350  883900  373918  \n",
       "15996     106      28    9354      14  \n",
       "15997  187506   29150  450380  581558  \n",
       "15998     380      66   22688     544  \n",
       "15999      26       8    4644      14  \n",
       "\n",
       "[11087 rows x 50 columns]"
      ]
     },
     "execution_count": 225,
     "metadata": {},
     "output_type": "execute_result"
    }
   ],
   "source": [
    "# Exibindo as 50 features\n",
    "cols = fit.get_support(indices=True)\n",
    "X.iloc[:,cols]"
   ]
  },
  {
   "cell_type": "code",
   "execution_count": 226,
   "metadata": {},
   "outputs": [],
   "source": [
    "X = X.iloc[:,cols]"
   ]
  },
  {
   "cell_type": "markdown",
   "metadata": {},
   "source": [
    "## Removendo outliers / Removing outliers\n",
    "\n",
    "- Remoção descartada, por reduzir cerca  de 11000 linhas para cerca de 1000(Redução excessiva) / Removal discarded, due to reducing about 11000 lines to about 1000(Excessive reduction)"
   ]
  },
  {
   "cell_type": "code",
   "execution_count": 228,
   "metadata": {},
   "outputs": [],
   "source": [
    "def remove_outliers_iqr(X):\n",
    "    # Selecionar apenas colunas numéricas\n",
    "    numeric_cols = X.select_dtypes(include='number').columns\n",
    "    \n",
    "    for col in numeric_cols:\n",
    "        # Calcular o IQR\n",
    "        Q1 = X[col].quantile(0.25)\n",
    "        Q3 = X[col].quantile(0.75)\n",
    "        IQR = Q3 - Q1\n",
    "        \n",
    "        # Definir limites para detectar outliers\n",
    "        lower_bound = Q1 - 1.5 * IQR\n",
    "        upper_bound = Q3 + 1.5 * IQR\n",
    "        \n",
    "        # Filtrar dados dentro dos limites\n",
    "        X = X[(X[col] >= lower_bound) & (X[col] <= upper_bound)]\n",
    "    \n",
    "    return X"
   ]
  },
  {
   "cell_type": "code",
   "execution_count": 229,
   "metadata": {},
   "outputs": [
    {
     "data": {
      "text/plain": [
       "'# Remover outliers\\nX = remove_outliers_iqr(X)'"
      ]
     },
     "execution_count": 229,
     "metadata": {},
     "output_type": "execute_result"
    }
   ],
   "source": [
    "'''# Remover outliers\n",
    "X = remove_outliers_iqr(X)'''"
   ]
  },
  {
   "cell_type": "code",
   "execution_count": 230,
   "metadata": {},
   "outputs": [
    {
     "data": {
      "text/plain": [
       "(11087, 50)"
      ]
     },
     "execution_count": 230,
     "metadata": {},
     "output_type": "execute_result"
    }
   ],
   "source": [
    "X.shape"
   ]
  },
  {
   "cell_type": "markdown",
   "metadata": {},
   "source": [
    "### Observando balanceamento dos dados / Observing data balance\n",
    "- Nota-se que os dados estão desbalanceados, tendo uma proporção muito maior de 'neg' do que 'pos' / It is noted that the data is unbalanced, with a much higher proportion of 'neg' than 'pos'"
   ]
  },
  {
   "cell_type": "code",
   "execution_count": 231,
   "metadata": {},
   "outputs": [
    {
     "name": "stdout",
     "output_type": "stream",
     "text": [
      "class\n",
      "0.0    99.431767\n",
      "1.0     0.568233\n",
      "Name: count, dtype: float64\n"
     ]
    }
   ],
   "source": [
    "# Contar as ocorrências de cada classe\n",
    "class_counts = df['class'].value_counts()\n",
    "\n",
    "# Calcular a porcentagem de cada classe\n",
    "class_percentages = (class_counts / class_counts.sum()) * 100\n",
    "\n",
    "# Exibir o resultado\n",
    "print(class_percentages)"
   ]
  },
  {
   "cell_type": "markdown",
   "metadata": {},
   "source": [
    "Interpretação dos Resultados/ Interpretation of Results\n",
    "- Falsos Positivos (FP): Caminhões enviados para manutenção sem defeito. Custos de inspeção desnecessários. / False Positives (FP): Trucks sent for maintenance without defect. Unnecessary inspection costs.\n",
    "- Verdadeiros Positivos (TP): Caminhões enviados para manutenção com defeito. Custos de inspeção e reparo preventivo. / True Positives (TP): Trucks sent for maintenance with defects. Inspection and preventive repair costs.\n",
    "- Falsos Negativos (FN): Caminhões com defeito não detectados. Custos altos de manutenção corretiva. / False Negatives (FN): Defective trucks not detected. High corrective maintenance costs.\n",
    "- Custo Total: Soma dos custos de manutenção preventiva e corretiva. / Total Cost: Sum of preventive and corrective maintenance costs."
   ]
  },
  {
   "cell_type": "markdown",
   "metadata": {},
   "source": [
    "Métrica de avaliação / evaluation metrics\n",
    "- Recall Score\n",
    "- AUC Score"
   ]
  },
  {
   "cell_type": "code",
   "execution_count": 232,
   "metadata": {},
   "outputs": [],
   "source": [
    "def avaliar_modelo(nome_modelo, y_teste, previsao):\n",
    "    auc = roc_auc_score(y_teste, previsao)\n",
    "    recall = recall_score(y_teste, previsao)\n",
    "    return f'Modelo {nome_modelo}\\nAUC {auc}\\nRecall {recall}'"
   ]
  },
  {
   "cell_type": "markdown",
   "metadata": {},
   "source": [
    "### Modelos / Models\n",
    "\n",
    "- Random Forest Classifier\n",
    "- SVC\n",
    "- SGDClassifier"
   ]
  },
  {
   "cell_type": "code",
   "execution_count": 233,
   "metadata": {},
   "outputs": [],
   "source": [
    "modelo_rf = RandomForestClassifier()\n",
    "modelo_SGDC = SGDClassifier()\n",
    "modelo_svc = SVC()\n",
    "\n",
    "modelos = {'RandomForest': modelo_rf,\n",
    "           'SGDClass': modelo_SGDC,\n",
    "           'svc': modelo_svc,\n",
    "}"
   ]
  },
  {
   "cell_type": "code",
   "execution_count": 234,
   "metadata": {},
   "outputs": [
    {
     "name": "stdout",
     "output_type": "stream",
     "text": [
      "Modelo RandomForest\n",
      "AUC 0.7058823529411764\n",
      "Recall 0.4117647058823529\n",
      "Modelo SGDClass\n",
      "AUC 0.5521084658908936\n",
      "Recall 0.11764705882352941\n",
      "Modelo svc\n",
      "AUC 0.5882352941176471\n",
      "Recall 0.17647058823529413\n"
     ]
    }
   ],
   "source": [
    "X_train, X_test, y_train, y_test = train_test_split(X, y, random_state=10)\n",
    "\n",
    "for nome_modelo, modelo in modelos.items():\n",
    "    #treinar\n",
    "    modelo.fit(X_train, y_train)\n",
    "    #testar\n",
    "    previsao =modelo.predict(X_test)\n",
    "    print(avaliar_modelo(nome_modelo,y_test,previsao))"
   ]
  },
  {
   "cell_type": "markdown",
   "metadata": {},
   "source": [
    "# Primeiros resultados com 50 colunas mais relevantes / First results with 50 most relevant columns\n",
    "### Random Forest venceu / Random Forest Won\n",
    "-    Modelo RandomForest\n",
    " -   AUC 0.7058823529411764\n",
    "-    Recall 0.4117647058823529 <br><br>\n",
    "-    Modelo SGDClass\n",
    "-    AUC 0.638347389772606\n",
    "-    Recall 0.29411764705882354\n",
    "-    Modelo svc\n",
    "-    AUC 0.5882352941176471\n",
    "-    Recall 0.17647058823529413\n"
   ]
  },
  {
   "cell_type": "markdown",
   "metadata": {},
   "source": [
    "### Analisando a importância das features na construção do modelo /  Analyzing the importance of features in model construction"
   ]
  },
  {
   "cell_type": "code",
   "execution_count": 235,
   "metadata": {},
   "outputs": [
    {
     "data": {
      "text/html": [
       "<div>\n",
       "<style scoped>\n",
       "    .dataframe tbody tr th:only-of-type {\n",
       "        vertical-align: middle;\n",
       "    }\n",
       "\n",
       "    .dataframe tbody tr th {\n",
       "        vertical-align: top;\n",
       "    }\n",
       "\n",
       "    .dataframe thead th {\n",
       "        text-align: right;\n",
       "    }\n",
       "</style>\n",
       "<table border=\"1\" class=\"dataframe\">\n",
       "  <thead>\n",
       "    <tr style=\"text-align: right;\">\n",
       "      <th></th>\n",
       "      <th>0</th>\n",
       "    </tr>\n",
       "  </thead>\n",
       "  <tbody>\n",
       "    <tr>\n",
       "      <th>ag_002</th>\n",
       "      <td>0.071752</td>\n",
       "    </tr>\n",
       "    <tr>\n",
       "      <th>cj_000</th>\n",
       "      <td>0.060211</td>\n",
       "    </tr>\n",
       "    <tr>\n",
       "      <th>am_0</th>\n",
       "      <td>0.053875</td>\n",
       "    </tr>\n",
       "    <tr>\n",
       "      <th>aq_000</th>\n",
       "      <td>0.050747</td>\n",
       "    </tr>\n",
       "    <tr>\n",
       "      <th>al_000</th>\n",
       "      <td>0.046376</td>\n",
       "    </tr>\n",
       "    <tr>\n",
       "      <th>...</th>\n",
       "      <td>...</td>\n",
       "    </tr>\n",
       "    <tr>\n",
       "      <th>ba_004</th>\n",
       "      <td>0.007302</td>\n",
       "    </tr>\n",
       "    <tr>\n",
       "      <th>ce_000</th>\n",
       "      <td>0.007210</td>\n",
       "    </tr>\n",
       "    <tr>\n",
       "      <th>ar_000</th>\n",
       "      <td>0.006957</td>\n",
       "    </tr>\n",
       "    <tr>\n",
       "      <th>bx_000</th>\n",
       "      <td>0.006942</td>\n",
       "    </tr>\n",
       "    <tr>\n",
       "      <th>cs_002</th>\n",
       "      <td>0.005666</td>\n",
       "    </tr>\n",
       "  </tbody>\n",
       "</table>\n",
       "<p>50 rows × 1 columns</p>\n",
       "</div>"
      ],
      "text/plain": [
       "               0\n",
       "ag_002  0.071752\n",
       "cj_000  0.060211\n",
       "am_0    0.053875\n",
       "aq_000  0.050747\n",
       "al_000  0.046376\n",
       "...          ...\n",
       "ba_004  0.007302\n",
       "ce_000  0.007210\n",
       "ar_000  0.006957\n",
       "bx_000  0.006942\n",
       "cs_002  0.005666\n",
       "\n",
       "[50 rows x 1 columns]"
      ]
     },
     "metadata": {},
     "output_type": "display_data"
    },
    {
     "data": {
      "image/png": "[encoded data removed]",
      "text/plain": [
       "<Figure size 1500x500 with 1 Axes>"
      ]
     },
     "metadata": {},
     "output_type": "display_data"
    }
   ],
   "source": [
    "#print (modelo_et.feature_importances_) \n",
    "# #print(X_train.columns) \n",
    "importancia_features = pd.DataFrame(modelo_rf.feature_importances_, X_train.columns)\n",
    "importancia_features = importancia_features.sort_values (by=0, ascending=False)\n",
    "display(importancia_features)\n",
    "plt.figure(figsize= (15, 5)) \n",
    "ax = sns.barplot(x=importancia_features.index, y=importancia_features [0]) \n",
    "ax.tick_params(axis='x', rotation=90)\n"
   ]
  },
  {
   "cell_type": "code",
   "execution_count": 236,
   "metadata": {},
   "outputs": [
    {
     "data": {
      "text/plain": [
       "\"X = X.drop('ar_000', axis=1)\\ny = df['class']\\n\\nX_train, X_test, y_train, y_test = train_test_split(X, y, random_state=10)\\n\\n#treinar\\nmodelo_rf.fit(X_train, y_train)\\n#testar\\nprevisao =modelo_rf.predict(X_test)\\nprint(avaliar_modelo('RandomForest',y_test,previsao))\""
      ]
     },
     "execution_count": 236,
     "metadata": {},
     "output_type": "execute_result"
    }
   ],
   "source": [
    "'''X = X.drop('ar_000', axis=1)\n",
    "y = df['class']\n",
    "\n",
    "X_train, X_test, y_train, y_test = train_test_split(X, y, random_state=10)\n",
    "\n",
    "#treinar\n",
    "modelo_rf.fit(X_train, y_train)\n",
    "#testar\n",
    "previsao =modelo_rf.predict(X_test)\n",
    "print(avaliar_modelo('RandomForest',y_test,previsao))'''"
   ]
  },
  {
   "cell_type": "markdown",
   "metadata": {},
   "source": [
    "# Testando hiperparâmetros /  Testing hyperparameters"
   ]
  },
  {
   "cell_type": "code",
   "execution_count": 239,
   "metadata": {},
   "outputs": [],
   "source": [
    "# Vamos aplicar a normalização em treino e teste\n",
    "# Padronização\n",
    "sc = MinMaxScaler()\n",
    "X_treino_normalizados = sc.fit_transform(X_train)\n",
    "X_teste_normalizados = sc.transform(X_test)"
   ]
  },
  {
   "cell_type": "code",
   "execution_count": 243,
   "metadata": {},
   "outputs": [
    {
     "name": "stdout",
     "output_type": "stream",
     "text": [
      "Melhores Hiperparâmetros: {'bootstrap': True, 'criterion': 'gini', 'max_depth': 10, 'max_features': None, 'min_samples_leaf': 1, 'min_samples_split': 2, 'n_estimators': 250}\n",
      "Modelo RandomForest Melhorado\n",
      "AUC 0.7057008647379096\n",
      "Recall 0.4117647058823529\n",
      "     mean_fit_time  std_fit_time  mean_score_time  std_score_time  \\\n",
      "0         2.048116      0.112449         0.022020        0.005212   \n",
      "1         3.008280      0.145911         0.029689        0.002128   \n",
      "2         3.985026      0.149068         0.034979        0.004315   \n",
      "3         5.229959      0.307048         0.041334        0.000557   \n",
      "4         7.629178      0.217276         0.091618        0.008227   \n",
      "..             ...           ...              ...             ...   \n",
      "715      24.806070      8.565260         0.026046        0.001727   \n",
      "716      37.616676     12.248410         0.038071        0.004713   \n",
      "717      49.546180     16.446734         0.044042        0.002886   \n",
      "718      60.483269     17.882983         0.049207        0.011950   \n",
      "719      61.394305     14.731959         0.036537        0.009623   \n",
      "\n",
      "     param_bootstrap param_criterion  param_max_depth param_max_features  \\\n",
      "0               True            gini               10               sqrt   \n",
      "1               True            gini               10               sqrt   \n",
      "2               True            gini               10               sqrt   \n",
      "3               True            gini               10               sqrt   \n",
      "4               True            gini               10               sqrt   \n",
      "..               ...             ...              ...                ...   \n",
      "715            False         entropy               20               None   \n",
      "716            False         entropy               20               None   \n",
      "717            False         entropy               20               None   \n",
      "718            False         entropy               20               None   \n",
      "719            False         entropy               20               None   \n",
      "\n",
      "     param_min_samples_leaf  param_min_samples_split  param_n_estimators  \\\n",
      "0                         1                        2                 100   \n",
      "1                         1                        2                 150   \n",
      "2                         1                        2                 200   \n",
      "3                         1                        2                 250   \n",
      "4                         1                        2                 300   \n",
      "..                      ...                      ...                 ...   \n",
      "715                       3                        5                 100   \n",
      "716                       3                        5                 150   \n",
      "717                       3                        5                 200   \n",
      "718                       3                        5                 250   \n",
      "719                       3                        5                 300   \n",
      "\n",
      "                                                params  split0_test_score  \\\n",
      "0    {'bootstrap': True, 'criterion': 'gini', 'max_...           0.995310   \n",
      "1    {'bootstrap': True, 'criterion': 'gini', 'max_...           0.995671   \n",
      "2    {'bootstrap': True, 'criterion': 'gini', 'max_...           0.995310   \n",
      "3    {'bootstrap': True, 'criterion': 'gini', 'max_...           0.995671   \n",
      "4    {'bootstrap': True, 'criterion': 'gini', 'max_...           0.995310   \n",
      "..                                                 ...                ...   \n",
      "715  {'bootstrap': False, 'criterion': 'entropy', '...           0.992785   \n",
      "716  {'bootstrap': False, 'criterion': 'entropy', '...           0.993146   \n",
      "717  {'bootstrap': False, 'criterion': 'entropy', '...           0.993146   \n",
      "718  {'bootstrap': False, 'criterion': 'entropy', '...           0.992785   \n",
      "719  {'bootstrap': False, 'criterion': 'entropy', '...           0.992785   \n",
      "\n",
      "     split1_test_score  split2_test_score  mean_test_score  std_test_score  \\\n",
      "0             0.994228           0.996391         0.995310        0.000883   \n",
      "1             0.994949           0.996391         0.995671        0.000589   \n",
      "2             0.994589           0.996030         0.995310        0.000589   \n",
      "3             0.994949           0.996030         0.995550        0.000449   \n",
      "4             0.994949           0.996391         0.995550        0.000613   \n",
      "..                 ...                ...              ...             ...   \n",
      "715           0.993867           0.996391         0.994348        0.001511   \n",
      "716           0.993867           0.996391         0.994468        0.001391   \n",
      "717           0.993867           0.996391         0.994468        0.001391   \n",
      "718           0.993867           0.996391         0.994348        0.001511   \n",
      "719           0.993867           0.996391         0.994348        0.001511   \n",
      "\n",
      "     rank_test_score  \n",
      "0                342  \n",
      "1                 59  \n",
      "2                432  \n",
      "3                161  \n",
      "4                112  \n",
      "..               ...  \n",
      "715              660  \n",
      "716              635  \n",
      "717              635  \n",
      "718              660  \n",
      "719              660  \n",
      "\n",
      "[720 rows x 18 columns]\n",
      "Acurácia em Treinamento: 99.60%\n"
     ]
    }
   ],
   "source": [
    "from sklearn.ensemble import RandomForestClassifier\n",
    "from sklearn.model_selection import GridSearchCV, train_test_split\n",
    "from sklearn.metrics import roc_auc_score, recall_score\n",
    "import numpy as np\n",
    "import pandas as pd\n",
    "\n",
    "# Valores para o grid de hiperparâmetros\n",
    "n_estimators = np.array([100, 150, 200, 250, 300])\n",
    "max_depth = np.array([10, 20])\n",
    "criterion = np.array([\"gini\", \"entropy\"])\n",
    "max_features = np.array([\"sqrt\", \"log2\", None])\n",
    "min_samples_split = np.array([2, 5])\n",
    "min_samples_leaf = np.array([1, 2, 3])\n",
    "bootstrap = np.array([True, False])\n",
    "\n",
    "# Grid de hiperparâmetros\n",
    "grid_parametros = dict(\n",
    "    n_estimators=n_estimators,\n",
    "    max_depth=max_depth,\n",
    "    criterion=criterion,\n",
    "    max_features=max_features,\n",
    "    min_samples_split=min_samples_split,\n",
    "    min_samples_leaf=min_samples_leaf,\n",
    "    bootstrap=bootstrap\n",
    ")\n",
    "\n",
    "# Dividindo os dados em treino e teste\n",
    "X_train, X_test, y_train, y_test = train_test_split(X, y, random_state=10)\n",
    "\n",
    "# Criando o modelo de Random Forest\n",
    "modelo_rf = RandomForestClassifier()\n",
    "\n",
    "# Realizando o GridSearchCV\n",
    "randomForest = GridSearchCV(modelo_rf, grid_parametros, cv=3, n_jobs=-1)\n",
    "randomForest.fit(X_train, y_train)\n",
    "\n",
    "# Obtendo os melhores hiperparâmetros\n",
    "best_params = randomForest.best_params_\n",
    "print(\"Melhores Hiperparâmetros:\", best_params)\n",
    "\n",
    "# Treinando um novo modelo de Random Forest com os melhores hiperparâmetros\n",
    "modelo_rf_melhorado = RandomForestClassifier(**best_params)\n",
    "modelo_rf_melhorado.fit(X_train, y_train)\n",
    "\n",
    "# Função para avaliar o modelo\n",
    "def avaliar_modelo(nome_modelo, y_teste, previsao):\n",
    "    auc = roc_auc_score(y_teste, previsao)\n",
    "    recall = recall_score(y_teste, previsao)\n",
    "    return f'Modelo {nome_modelo}\\nAUC {auc}\\nRecall {recall}'\n",
    "\n",
    "# Fazendo previsões com o modelo melhorado\n",
    "previsao_rf_melhorado = modelo_rf_melhorado.predict(X_test)\n",
    "\n",
    "# Avaliando o modelo melhorado\n",
    "print(avaliar_modelo(\"RandomForest Melhorado\", y_test, previsao_rf_melhorado))\n",
    "\n",
    "# Obtendo e visualizando os resultados do GridSearchCV\n",
    "treinos_rf = pd.DataFrame(randomForest.cv_results_)\n",
    "print(treinos_rf)\n",
    "\n",
    "# Acurácia em Treino\n",
    "print(f\"Acurácia em Treinamento: {randomForest.best_score_ :.2%}\")\n"
   ]
  },
  {
   "cell_type": "markdown",
   "metadata": {},
   "source": [
    "# Resultado final / Final result\n",
    "- Melhores Hiperparâmetros: {'bootstrap': True, 'criterion': 'gini', 'max_depth': 10, 'max_features': None, 'min_samples_leaf': 1, 'min_samples_split': 2, 'n_estimators': 250} <br><br>\n",
    "- Modelo RandomForest Melhorado / Upgrade RandomForest\n",
    "1. AUC 0.7057008647379096\n",
    "2. Recall 0.4117647058823529"
   ]
  },
  {
   "cell_type": "markdown",
   "metadata": {},
   "source": [
    "# Answering questions\n",
    "1. What steps would you take to solve this problem? Please describe as completely and clearly as possible all the steps that you see as essential for solving the problem.\n",
    "- Import the data, process it, understand what each column means (which was not possible in this project), choose the target column and the relevant features, choose better metrics, choose better models, improve the model, deploy the model and do its maintenance\n",
    "2. Which technical data science metric would you use to solve this challenge? Ex: absolute error, rmse, etc.\n",
    "- AUC (Because it is the best metric for dealing with an unbalanced database) and Recall (Because it is a very effective metric when the objective is to minimize the number of false negatives, as they are what cause the most expenses for the company)\n",
    "3. Which business metric would you use to solve the challenge?\n",
    "- Try to reduce at all costs the number of trucks with defects that are not diagnosed\n",
    "4. How do technical metrics relate to the business metrics?\n",
    "- Just by analyzing the two previous answers, it is clear that both metrics are related to minimize expenses\n",
    "5. What types of analyzes would you like to perform on the customer database?\n",
    "- How many times did he take his vehicle for maintenance, year of purchase, parts changes made and vehicle mileage\n",
    "6. What techniques would you use to reduce the dimensionality of the problem?\n",
    "- create a more efficient model to predict in advance whether the truck will have a defect\n",
    "7. What techniques would you use to select variables for your predictive model?\n",
    "- Answered in code\n",
    "8. What predictive models would you use or test for this problem? Please indicate at least 3.\n",
    "- RF, SVC, SGDClassifier\n",
    "9. How would you rate which of the trained models is the best?\n",
    "- Looking at which one has the two best metrics cited\n",
    "10. How would you explain the result of your model? Is it possible to know which variables are most important?\n",
    "- It is the model that can classify better, even with an unbalanced base and has fewer false negatives. Is possible, and it was demonstrated with a graph\n",
    "11. How would you assess the financial impact of the proposed model?\n",
    "- With adjustments to the model, it will be possible to reduce, with a more acceptable metric, the number of false negatives, resulting in cost savings.\n",
    "12. What techniques would you use to perform the hyperparameter optimization of the chosen model?\n",
    "- Use Grid Search to find the best hyperparameters for the chosen model.\n",
    "13. What risks or precautions would you present to the customer before putting this model into production?\n",
    "- Obtain more accessible values ​​for metrics, obtaining more security and being careful with model overfitting\n",
    "14. If your predictive model is approved, how would you put it into production?\n",
    "- Project Deploy • Step 1 -> Create Model file (joblib) • Step 2 -> Choose the deployment method: • Executable File + Tkinter • Deploy on a Microsite (Flask) • Deploy for direct use only (Streamlit) • Step 3 -> Another Python file (can be Jupyter or PyCharm) • Step 4 -> Import streamlit and create code • Step 5 -> Assign model loading to the button • Step 6 -> Deploy done\n",
    "15. If the model is in production, how would you monitor it?\n",
    "- Monitor model performance metrics and input data quality.\n",
    "16. If the model is in production, how would you know when to retrain it?\n",
    "- Define criteria for model retraining, such as deterioration of performance metrics.\n"
   ]
  }
 ],
 "metadata": {
  "kernelspec": {
   "display_name": "Python 3",
   "language": "python",
   "name": "python3"
  },
  "language_info": {
   "codemirror_mode": {
    "name": "ipython",
    "version": 3
   },
   "file_extension": ".py",
   "mimetype": "text/x-python",
   "name": "python",
   "nbconvert_exporter": "python",
   "pygments_lexer": "ipython3",
   "version": "3.11.9"
  }
 },
 "nbformat": 4,
 "nbformat_minor": 2
}
